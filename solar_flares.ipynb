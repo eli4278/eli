{
 "cells": [
  {
   "cell_type": "markdown",
   "source": [
    "# CMSC320 Project 1: Solar Flares\n",
    "\n",
    "# Part 1: Data Scraping and Preparation"
   ],
   "metadata": {
    "collapsed": false
   }
  },
  {
   "cell_type": "markdown",
   "source": [
    "## Step 1: Scrape Competitor Data"
   ],
   "metadata": {
    "collapsed": false
   }
  },
  {
   "cell_type": "code",
   "execution_count": 1,
   "metadata": {},
   "outputs": [],
   "source": [
    "import pandas as pd\n",
    "import numpy as np\n",
    "from bs4 import BeautifulSoup\n",
    "import requests as req\n",
    "from datetime import datetime"
   ]
  },
  {
   "cell_type": "markdown",
   "source": [
    "Extract html from URL, parse with BeautifulSoup, find the table, and rename columns"
   ],
   "metadata": {
    "collapsed": false
   }
  },
  {
   "cell_type": "code",
   "execution_count": 2,
   "metadata": {
    "pycharm": {
     "name": "#%%\n"
    }
   },
   "outputs": [
    {
     "data": {
      "text/plain": "   rank x_classification        date  region start_time max_time end_time  \\\n0     1             X28+  2003/11/04     486      19:29    19:53    20:06   \n1     2             X20+  2001/04/02    9393      21:32    21:51    22:03   \n2     3           X17.2+  2003/10/28     486      09:51    11:10    11:24   \n3     4             X17+  2005/09/07     808      17:17    17:40    18:03   \n4     5            X14.4  2001/04/15    9415      13:19    13:50    13:55   \n\n               movie  \n0  MovieView archive  \n1  MovieView archive  \n2  MovieView archive  \n3  MovieView archive  \n4  MovieView archive  ",
      "text/html": "<div>\n<style scoped>\n    .dataframe tbody tr th:only-of-type {\n        vertical-align: middle;\n    }\n\n    .dataframe tbody tr th {\n        vertical-align: top;\n    }\n\n    .dataframe thead th {\n        text-align: right;\n    }\n</style>\n<table border=\"1\" class=\"dataframe\">\n  <thead>\n    <tr style=\"text-align: right;\">\n      <th></th>\n      <th>rank</th>\n      <th>x_classification</th>\n      <th>date</th>\n      <th>region</th>\n      <th>start_time</th>\n      <th>max_time</th>\n      <th>end_time</th>\n      <th>movie</th>\n    </tr>\n  </thead>\n  <tbody>\n    <tr>\n      <th>0</th>\n      <td>1</td>\n      <td>X28+</td>\n      <td>2003/11/04</td>\n      <td>486</td>\n      <td>19:29</td>\n      <td>19:53</td>\n      <td>20:06</td>\n      <td>MovieView archive</td>\n    </tr>\n    <tr>\n      <th>1</th>\n      <td>2</td>\n      <td>X20+</td>\n      <td>2001/04/02</td>\n      <td>9393</td>\n      <td>21:32</td>\n      <td>21:51</td>\n      <td>22:03</td>\n      <td>MovieView archive</td>\n    </tr>\n    <tr>\n      <th>2</th>\n      <td>3</td>\n      <td>X17.2+</td>\n      <td>2003/10/28</td>\n      <td>486</td>\n      <td>09:51</td>\n      <td>11:10</td>\n      <td>11:24</td>\n      <td>MovieView archive</td>\n    </tr>\n    <tr>\n      <th>3</th>\n      <td>4</td>\n      <td>X17+</td>\n      <td>2005/09/07</td>\n      <td>808</td>\n      <td>17:17</td>\n      <td>17:40</td>\n      <td>18:03</td>\n      <td>MovieView archive</td>\n    </tr>\n    <tr>\n      <th>4</th>\n      <td>5</td>\n      <td>X14.4</td>\n      <td>2001/04/15</td>\n      <td>9415</td>\n      <td>13:19</td>\n      <td>13:50</td>\n      <td>13:55</td>\n      <td>MovieView archive</td>\n    </tr>\n  </tbody>\n</table>\n</div>"
     },
     "execution_count": 2,
     "metadata": {},
     "output_type": "execute_result"
    }
   ],
   "source": [
    "x = req.get('https://cmsc320.github.io/files/top-50-solar-flares.html')\n",
    "html = x.text\n",
    "soup = BeautifulSoup(html, features=\"html.parser\")\n",
    "table = soup.find('table')\n",
    "df = pd.read_html(str(table))\n",
    "df = df[0]\n",
    "df.columns = ['rank', 'x_classification', 'date', 'region', 'start_time', 'max_time', 'end_time', 'movie']\n",
    "df.head()"
   ]
  },
  {
   "cell_type": "markdown",
   "source": [
    "## Step 2: Tidy the Data"
   ],
   "metadata": {
    "collapsed": false
   }
  },
  {
   "cell_type": "markdown",
   "source": [
    "Combine date and time columns, and convert strings to datetime objects"
   ],
   "metadata": {
    "collapsed": false
   }
  },
  {
   "cell_type": "code",
   "execution_count": 3,
   "metadata": {
    "pycharm": {
     "name": "#%%\n"
    }
   },
   "outputs": [
    {
     "data": {
      "text/plain": "    rank x_classification           start_time             max_time  \\\n0      1             X28+  2003-11-04 19:29:00  2003-11-04 19:53:00   \n1      2             X20+  2001-04-02 21:32:00  2001-04-02 21:51:00   \n2      3           X17.2+  2003-10-28 09:51:00  2003-10-28 11:10:00   \n3      4             X17+  2005-09-07 17:17:00  2005-09-07 17:40:00   \n4      5            X14.4  2001-04-15 13:19:00  2001-04-15 13:50:00   \n5      6              X10  2003-10-29 20:37:00  2003-10-29 20:49:00   \n6      7             X9.4  1997-11-06 11:49:00  1997-11-06 11:55:00   \n7      8             X9.3  2017-09-06 11:53:00  2017-09-06 12:02:00   \n8      9               X9  2006-12-05 10:18:00  2006-12-05 10:35:00   \n9     10             X8.3  2003-11-02 17:03:00  2003-11-02 17:25:00   \n10    11             X8.2  2017-09-10 15:35:00  2017-09-10 16:06:00   \n11    12             X7.1  2005-01-20 06:36:00  2005-01-20 07:01:00   \n12    13             X6.9  2011-08-09 07:48:00  2011-08-09 08:05:00   \n13    14             X6.5  2006-12-06 18:29:00  2006-12-06 18:47:00   \n14    15             X6.2  2005-09-09 19:13:00  2005-09-09 20:04:00   \n15    16             X6.2  2001-12-13 14:20:00  2001-12-13 14:30:00   \n16    17             X5.7  2000-07-14 10:03:00  2000-07-14 10:24:00   \n17    18             X5.6  2001-04-06 19:10:00  2001-04-06 19:21:00   \n18    19             X5.4  2012-03-07 00:02:00  2012-03-07 00:24:00   \n19    20             X5.4  2005-09-08 20:52:00  2005-09-08 21:06:00   \n20    21             X5.4  2003-10-23 08:19:00  2003-10-23 08:35:00   \n21    22             X5.3  2001-08-25 16:23:00  2001-08-25 16:45:00   \n22    23             X4.9  2014-02-25 00:39:00  2014-02-25 00:49:00   \n23    24             X4.9  1998-08-18 22:10:00  1998-08-18 22:19:00   \n24    25             X4.8  2002-07-23 00:18:00  2002-07-23 00:35:00   \n25    26               X4  2000-11-26 16:34:00  2000-11-26 16:48:00   \n26    27             X3.9  2003-11-03 09:43:00  2003-11-03 09:55:00   \n27    28             X3.9  1998-08-19 21:35:00  1998-08-19 21:45:00   \n28    29             X3.8  2005-01-17 06:59:00  2005-01-17 09:52:00   \n29    30             X3.7  1998-11-22 06:30:00  1998-11-22 06:42:00   \n30    31             X3.6  2005-09-09 09:42:00  2005-09-09 09:59:00   \n31    32             X3.6  2004-07-16 13:49:00  2004-07-16 13:55:00   \n32    33             X3.6  2003-05-28 00:17:00  2003-05-28 00:27:00   \n33    34             X3.4  2006-12-13 02:14:00  2006-12-13 02:40:00   \n34    35             X3.4  2001-12-28 20:02:00  2001-12-28 20:45:00   \n35    36             X3.3  2013-11-05 22:07:00  2013-11-05 22:12:00   \n36    37             X3.3  2002-07-20 21:04:00  2002-07-20 21:30:00   \n37    38             X3.3  1998-11-28 04:54:00  1998-11-28 05:52:00   \n38    39             X3.2  2013-05-14 00:00:00  2013-05-14 01:11:00   \n39    40             X3.1  2014-10-24 21:07:00  2014-10-24 21:41:00   \n40    41             X3.1  2002-08-24 00:49:00  2002-08-24 01:12:00   \n41    42               X3  2002-07-15 19:59:00  2002-07-15 20:08:00   \n42    43             X2.8  2013-05-13 15:48:00  2013-05-13 16:05:00   \n43    44             X2.8  2001-12-11 07:58:00  2001-12-11 08:08:00   \n44    45             X2.8  1998-08-18 08:14:00  1998-08-18 08:24:00   \n45    46             X2.7  2015-05-05 22:05:00  2015-05-05 22:11:00   \n46    47             X2.7  2003-11-03 01:09:00  2003-11-03 01:30:00   \n47    48             X2.7  1998-05-06 07:58:00  1998-05-06 08:09:00   \n48    49             X2.6  2005-01-15 22:25:00  2005-01-15 23:02:00   \n49    50             X2.6  2001-09-24 09:32:00  2001-09-24 10:38:00   \n\n               end_time  region  \n0   2003-11-04 20:06:00     486  \n1   2001-04-02 22:03:00    9393  \n2   2003-10-28 11:24:00     486  \n3   2005-09-07 18:03:00     808  \n4   2001-04-15 13:55:00    9415  \n5   2003-10-29 21:01:00     486  \n6   1997-11-06 12:01:00    8100  \n7   2017-09-06 12:10:00    2673  \n8   2006-12-05 10:45:00     930  \n9   2003-11-02 17:39:00     486  \n10  2017-09-10 16:31:00    2673  \n11  2005-01-20 07:26:00     720  \n12  2011-08-09 08:08:00    1263  \n13  2006-12-06 19:00:00     930  \n14  2005-09-09 20:36:00     808  \n15  2001-12-13 14:35:00    9733  \n16  2000-07-14 10:43:00    9077  \n17  2001-04-06 19:31:00    9415  \n18  2012-03-07 00:40:00    1429  \n19  2005-09-08 21:17:00     808  \n20  2003-10-23 08:49:00     486  \n21  2001-08-25 17:04:00    9591  \n22  2014-02-25 01:03:00    1990  \n23  1998-08-18 22:28:00    8307  \n24  2002-07-23 00:47:00      39  \n25  2000-11-26 16:56:00    9236  \n26  2003-11-03 10:19:00     488  \n27  1998-08-19 21:50:00    8307  \n28  2005-01-17 10:07:00     720  \n29  1998-11-22 06:49:00    8384  \n30  2005-09-09 10:08:00     808  \n31  2004-07-16 14:01:00     649  \n32  2003-05-28 00:39:00     365  \n33  2006-12-13 02:57:00     930  \n34  2001-12-28 21:32:00    9767  \n35  2013-11-05 22:15:00    1890  \n36  2002-07-20 21:54:00      39  \n37  1998-11-28 06:13:00    8395  \n38  2013-05-14 01:20:00    1748  \n39  2014-10-24 22:13:00    2192  \n40  2002-08-24 01:31:00      69  \n41  2002-07-15 20:14:00      30  \n42  2013-05-13 16:16:00    1748  \n43  2001-12-11 08:14:00    9733  \n44  1998-08-18 08:32:00    8307  \n45  2015-05-05 22:15:00    2339  \n46  2003-11-03 01:45:00     488  \n47  1998-05-06 08:20:00    8210  \n48  2005-01-15 23:31:00     720  \n49  2001-09-24 11:09:00    9632  ",
      "text/html": "<div>\n<style scoped>\n    .dataframe tbody tr th:only-of-type {\n        vertical-align: middle;\n    }\n\n    .dataframe tbody tr th {\n        vertical-align: top;\n    }\n\n    .dataframe thead th {\n        text-align: right;\n    }\n</style>\n<table border=\"1\" class=\"dataframe\">\n  <thead>\n    <tr style=\"text-align: right;\">\n      <th></th>\n      <th>rank</th>\n      <th>x_classification</th>\n      <th>start_time</th>\n      <th>max_time</th>\n      <th>end_time</th>\n      <th>region</th>\n    </tr>\n  </thead>\n  <tbody>\n    <tr>\n      <th>0</th>\n      <td>1</td>\n      <td>X28+</td>\n      <td>2003-11-04 19:29:00</td>\n      <td>2003-11-04 19:53:00</td>\n      <td>2003-11-04 20:06:00</td>\n      <td>486</td>\n    </tr>\n    <tr>\n      <th>1</th>\n      <td>2</td>\n      <td>X20+</td>\n      <td>2001-04-02 21:32:00</td>\n      <td>2001-04-02 21:51:00</td>\n      <td>2001-04-02 22:03:00</td>\n      <td>9393</td>\n    </tr>\n    <tr>\n      <th>2</th>\n      <td>3</td>\n      <td>X17.2+</td>\n      <td>2003-10-28 09:51:00</td>\n      <td>2003-10-28 11:10:00</td>\n      <td>2003-10-28 11:24:00</td>\n      <td>486</td>\n    </tr>\n    <tr>\n      <th>3</th>\n      <td>4</td>\n      <td>X17+</td>\n      <td>2005-09-07 17:17:00</td>\n      <td>2005-09-07 17:40:00</td>\n      <td>2005-09-07 18:03:00</td>\n      <td>808</td>\n    </tr>\n    <tr>\n      <th>4</th>\n      <td>5</td>\n      <td>X14.4</td>\n      <td>2001-04-15 13:19:00</td>\n      <td>2001-04-15 13:50:00</td>\n      <td>2001-04-15 13:55:00</td>\n      <td>9415</td>\n    </tr>\n    <tr>\n      <th>5</th>\n      <td>6</td>\n      <td>X10</td>\n      <td>2003-10-29 20:37:00</td>\n      <td>2003-10-29 20:49:00</td>\n      <td>2003-10-29 21:01:00</td>\n      <td>486</td>\n    </tr>\n    <tr>\n      <th>6</th>\n      <td>7</td>\n      <td>X9.4</td>\n      <td>1997-11-06 11:49:00</td>\n      <td>1997-11-06 11:55:00</td>\n      <td>1997-11-06 12:01:00</td>\n      <td>8100</td>\n    </tr>\n    <tr>\n      <th>7</th>\n      <td>8</td>\n      <td>X9.3</td>\n      <td>2017-09-06 11:53:00</td>\n      <td>2017-09-06 12:02:00</td>\n      <td>2017-09-06 12:10:00</td>\n      <td>2673</td>\n    </tr>\n    <tr>\n      <th>8</th>\n      <td>9</td>\n      <td>X9</td>\n      <td>2006-12-05 10:18:00</td>\n      <td>2006-12-05 10:35:00</td>\n      <td>2006-12-05 10:45:00</td>\n      <td>930</td>\n    </tr>\n    <tr>\n      <th>9</th>\n      <td>10</td>\n      <td>X8.3</td>\n      <td>2003-11-02 17:03:00</td>\n      <td>2003-11-02 17:25:00</td>\n      <td>2003-11-02 17:39:00</td>\n      <td>486</td>\n    </tr>\n    <tr>\n      <th>10</th>\n      <td>11</td>\n      <td>X8.2</td>\n      <td>2017-09-10 15:35:00</td>\n      <td>2017-09-10 16:06:00</td>\n      <td>2017-09-10 16:31:00</td>\n      <td>2673</td>\n    </tr>\n    <tr>\n      <th>11</th>\n      <td>12</td>\n      <td>X7.1</td>\n      <td>2005-01-20 06:36:00</td>\n      <td>2005-01-20 07:01:00</td>\n      <td>2005-01-20 07:26:00</td>\n      <td>720</td>\n    </tr>\n    <tr>\n      <th>12</th>\n      <td>13</td>\n      <td>X6.9</td>\n      <td>2011-08-09 07:48:00</td>\n      <td>2011-08-09 08:05:00</td>\n      <td>2011-08-09 08:08:00</td>\n      <td>1263</td>\n    </tr>\n    <tr>\n      <th>13</th>\n      <td>14</td>\n      <td>X6.5</td>\n      <td>2006-12-06 18:29:00</td>\n      <td>2006-12-06 18:47:00</td>\n      <td>2006-12-06 19:00:00</td>\n      <td>930</td>\n    </tr>\n    <tr>\n      <th>14</th>\n      <td>15</td>\n      <td>X6.2</td>\n      <td>2005-09-09 19:13:00</td>\n      <td>2005-09-09 20:04:00</td>\n      <td>2005-09-09 20:36:00</td>\n      <td>808</td>\n    </tr>\n    <tr>\n      <th>15</th>\n      <td>16</td>\n      <td>X6.2</td>\n      <td>2001-12-13 14:20:00</td>\n      <td>2001-12-13 14:30:00</td>\n      <td>2001-12-13 14:35:00</td>\n      <td>9733</td>\n    </tr>\n    <tr>\n      <th>16</th>\n      <td>17</td>\n      <td>X5.7</td>\n      <td>2000-07-14 10:03:00</td>\n      <td>2000-07-14 10:24:00</td>\n      <td>2000-07-14 10:43:00</td>\n      <td>9077</td>\n    </tr>\n    <tr>\n      <th>17</th>\n      <td>18</td>\n      <td>X5.6</td>\n      <td>2001-04-06 19:10:00</td>\n      <td>2001-04-06 19:21:00</td>\n      <td>2001-04-06 19:31:00</td>\n      <td>9415</td>\n    </tr>\n    <tr>\n      <th>18</th>\n      <td>19</td>\n      <td>X5.4</td>\n      <td>2012-03-07 00:02:00</td>\n      <td>2012-03-07 00:24:00</td>\n      <td>2012-03-07 00:40:00</td>\n      <td>1429</td>\n    </tr>\n    <tr>\n      <th>19</th>\n      <td>20</td>\n      <td>X5.4</td>\n      <td>2005-09-08 20:52:00</td>\n      <td>2005-09-08 21:06:00</td>\n      <td>2005-09-08 21:17:00</td>\n      <td>808</td>\n    </tr>\n    <tr>\n      <th>20</th>\n      <td>21</td>\n      <td>X5.4</td>\n      <td>2003-10-23 08:19:00</td>\n      <td>2003-10-23 08:35:00</td>\n      <td>2003-10-23 08:49:00</td>\n      <td>486</td>\n    </tr>\n    <tr>\n      <th>21</th>\n      <td>22</td>\n      <td>X5.3</td>\n      <td>2001-08-25 16:23:00</td>\n      <td>2001-08-25 16:45:00</td>\n      <td>2001-08-25 17:04:00</td>\n      <td>9591</td>\n    </tr>\n    <tr>\n      <th>22</th>\n      <td>23</td>\n      <td>X4.9</td>\n      <td>2014-02-25 00:39:00</td>\n      <td>2014-02-25 00:49:00</td>\n      <td>2014-02-25 01:03:00</td>\n      <td>1990</td>\n    </tr>\n    <tr>\n      <th>23</th>\n      <td>24</td>\n      <td>X4.9</td>\n      <td>1998-08-18 22:10:00</td>\n      <td>1998-08-18 22:19:00</td>\n      <td>1998-08-18 22:28:00</td>\n      <td>8307</td>\n    </tr>\n    <tr>\n      <th>24</th>\n      <td>25</td>\n      <td>X4.8</td>\n      <td>2002-07-23 00:18:00</td>\n      <td>2002-07-23 00:35:00</td>\n      <td>2002-07-23 00:47:00</td>\n      <td>39</td>\n    </tr>\n    <tr>\n      <th>25</th>\n      <td>26</td>\n      <td>X4</td>\n      <td>2000-11-26 16:34:00</td>\n      <td>2000-11-26 16:48:00</td>\n      <td>2000-11-26 16:56:00</td>\n      <td>9236</td>\n    </tr>\n    <tr>\n      <th>26</th>\n      <td>27</td>\n      <td>X3.9</td>\n      <td>2003-11-03 09:43:00</td>\n      <td>2003-11-03 09:55:00</td>\n      <td>2003-11-03 10:19:00</td>\n      <td>488</td>\n    </tr>\n    <tr>\n      <th>27</th>\n      <td>28</td>\n      <td>X3.9</td>\n      <td>1998-08-19 21:35:00</td>\n      <td>1998-08-19 21:45:00</td>\n      <td>1998-08-19 21:50:00</td>\n      <td>8307</td>\n    </tr>\n    <tr>\n      <th>28</th>\n      <td>29</td>\n      <td>X3.8</td>\n      <td>2005-01-17 06:59:00</td>\n      <td>2005-01-17 09:52:00</td>\n      <td>2005-01-17 10:07:00</td>\n      <td>720</td>\n    </tr>\n    <tr>\n      <th>29</th>\n      <td>30</td>\n      <td>X3.7</td>\n      <td>1998-11-22 06:30:00</td>\n      <td>1998-11-22 06:42:00</td>\n      <td>1998-11-22 06:49:00</td>\n      <td>8384</td>\n    </tr>\n    <tr>\n      <th>30</th>\n      <td>31</td>\n      <td>X3.6</td>\n      <td>2005-09-09 09:42:00</td>\n      <td>2005-09-09 09:59:00</td>\n      <td>2005-09-09 10:08:00</td>\n      <td>808</td>\n    </tr>\n    <tr>\n      <th>31</th>\n      <td>32</td>\n      <td>X3.6</td>\n      <td>2004-07-16 13:49:00</td>\n      <td>2004-07-16 13:55:00</td>\n      <td>2004-07-16 14:01:00</td>\n      <td>649</td>\n    </tr>\n    <tr>\n      <th>32</th>\n      <td>33</td>\n      <td>X3.6</td>\n      <td>2003-05-28 00:17:00</td>\n      <td>2003-05-28 00:27:00</td>\n      <td>2003-05-28 00:39:00</td>\n      <td>365</td>\n    </tr>\n    <tr>\n      <th>33</th>\n      <td>34</td>\n      <td>X3.4</td>\n      <td>2006-12-13 02:14:00</td>\n      <td>2006-12-13 02:40:00</td>\n      <td>2006-12-13 02:57:00</td>\n      <td>930</td>\n    </tr>\n    <tr>\n      <th>34</th>\n      <td>35</td>\n      <td>X3.4</td>\n      <td>2001-12-28 20:02:00</td>\n      <td>2001-12-28 20:45:00</td>\n      <td>2001-12-28 21:32:00</td>\n      <td>9767</td>\n    </tr>\n    <tr>\n      <th>35</th>\n      <td>36</td>\n      <td>X3.3</td>\n      <td>2013-11-05 22:07:00</td>\n      <td>2013-11-05 22:12:00</td>\n      <td>2013-11-05 22:15:00</td>\n      <td>1890</td>\n    </tr>\n    <tr>\n      <th>36</th>\n      <td>37</td>\n      <td>X3.3</td>\n      <td>2002-07-20 21:04:00</td>\n      <td>2002-07-20 21:30:00</td>\n      <td>2002-07-20 21:54:00</td>\n      <td>39</td>\n    </tr>\n    <tr>\n      <th>37</th>\n      <td>38</td>\n      <td>X3.3</td>\n      <td>1998-11-28 04:54:00</td>\n      <td>1998-11-28 05:52:00</td>\n      <td>1998-11-28 06:13:00</td>\n      <td>8395</td>\n    </tr>\n    <tr>\n      <th>38</th>\n      <td>39</td>\n      <td>X3.2</td>\n      <td>2013-05-14 00:00:00</td>\n      <td>2013-05-14 01:11:00</td>\n      <td>2013-05-14 01:20:00</td>\n      <td>1748</td>\n    </tr>\n    <tr>\n      <th>39</th>\n      <td>40</td>\n      <td>X3.1</td>\n      <td>2014-10-24 21:07:00</td>\n      <td>2014-10-24 21:41:00</td>\n      <td>2014-10-24 22:13:00</td>\n      <td>2192</td>\n    </tr>\n    <tr>\n      <th>40</th>\n      <td>41</td>\n      <td>X3.1</td>\n      <td>2002-08-24 00:49:00</td>\n      <td>2002-08-24 01:12:00</td>\n      <td>2002-08-24 01:31:00</td>\n      <td>69</td>\n    </tr>\n    <tr>\n      <th>41</th>\n      <td>42</td>\n      <td>X3</td>\n      <td>2002-07-15 19:59:00</td>\n      <td>2002-07-15 20:08:00</td>\n      <td>2002-07-15 20:14:00</td>\n      <td>30</td>\n    </tr>\n    <tr>\n      <th>42</th>\n      <td>43</td>\n      <td>X2.8</td>\n      <td>2013-05-13 15:48:00</td>\n      <td>2013-05-13 16:05:00</td>\n      <td>2013-05-13 16:16:00</td>\n      <td>1748</td>\n    </tr>\n    <tr>\n      <th>43</th>\n      <td>44</td>\n      <td>X2.8</td>\n      <td>2001-12-11 07:58:00</td>\n      <td>2001-12-11 08:08:00</td>\n      <td>2001-12-11 08:14:00</td>\n      <td>9733</td>\n    </tr>\n    <tr>\n      <th>44</th>\n      <td>45</td>\n      <td>X2.8</td>\n      <td>1998-08-18 08:14:00</td>\n      <td>1998-08-18 08:24:00</td>\n      <td>1998-08-18 08:32:00</td>\n      <td>8307</td>\n    </tr>\n    <tr>\n      <th>45</th>\n      <td>46</td>\n      <td>X2.7</td>\n      <td>2015-05-05 22:05:00</td>\n      <td>2015-05-05 22:11:00</td>\n      <td>2015-05-05 22:15:00</td>\n      <td>2339</td>\n    </tr>\n    <tr>\n      <th>46</th>\n      <td>47</td>\n      <td>X2.7</td>\n      <td>2003-11-03 01:09:00</td>\n      <td>2003-11-03 01:30:00</td>\n      <td>2003-11-03 01:45:00</td>\n      <td>488</td>\n    </tr>\n    <tr>\n      <th>47</th>\n      <td>48</td>\n      <td>X2.7</td>\n      <td>1998-05-06 07:58:00</td>\n      <td>1998-05-06 08:09:00</td>\n      <td>1998-05-06 08:20:00</td>\n      <td>8210</td>\n    </tr>\n    <tr>\n      <th>48</th>\n      <td>49</td>\n      <td>X2.6</td>\n      <td>2005-01-15 22:25:00</td>\n      <td>2005-01-15 23:02:00</td>\n      <td>2005-01-15 23:31:00</td>\n      <td>720</td>\n    </tr>\n    <tr>\n      <th>49</th>\n      <td>50</td>\n      <td>X2.6</td>\n      <td>2001-09-24 09:32:00</td>\n      <td>2001-09-24 10:38:00</td>\n      <td>2001-09-24 11:09:00</td>\n      <td>9632</td>\n    </tr>\n  </tbody>\n</table>\n</div>"
     },
     "execution_count": 3,
     "metadata": {},
     "output_type": "execute_result"
    }
   ],
   "source": [
    "df = df.iloc[:, 0:7]\n",
    "\n",
    "df['start_time'] = df['date'] + ' ' + df['start_time'] + ':00'\n",
    "df['max_time'] = df['date'] + ' ' + df['max_time'] + ':00'\n",
    "df['end_time'] = df['date'] + ' ' + df['end_time'] + ':00'\n",
    "\n",
    "df = df[['rank', 'x_classification', 'start_time', 'max_time', 'end_time', 'region']]\n",
    "\n",
    "for index in range(0,len(df)):\n",
    "    df.at[index, 'start_time'] = datetime.strptime(df.at[index, 'start_time'], '%Y/%m/%d %H:%M:%S')\n",
    "    df.at[index, 'end_time'] = datetime.strptime(df.at[index, 'end_time'], '%Y/%m/%d %H:%M:%S')\n",
    "    df.at[index, 'max_time'] = datetime.strptime(df.at[index, 'max_time'], '%Y/%m/%d %H:%M:%S')\n",
    "\n",
    "df"
   ]
  },
  {
   "cell_type": "markdown",
   "source": [
    "## Step 3: Scrape NASA Data"
   ],
   "metadata": {
    "collapsed": false
   }
  },
  {
   "cell_type": "markdown",
   "source": [
    "Similar to Step 1, extract html text from URL, parse with BeautifulSoup, find the table, remove unnecessary columns, and rename columns"
   ],
   "metadata": {
    "collapsed": false
   }
  },
  {
   "cell_type": "code",
   "execution_count": 4,
   "metadata": {
    "pycharm": {
     "name": "#%%\n"
    }
   },
   "outputs": [],
   "source": [
    "x2 = req.get('https://cmsc320.github.io/files/waves_type2.html')\n",
    "html2 = x2.text\n",
    "soup2 = BeautifulSoup(html2, features=\"html.parser\")\n",
    "table2 = soup2.find('pre')\n",
    "data = str(table2).split('\\n')\n",
    "data = data[12:len(data)-2]"
   ]
  },
  {
   "cell_type": "code",
   "execution_count": 31,
   "outputs": [
    {
     "data": {
      "text/plain": "   start_date start_time end_date end_time  \\\n0  1997/04/01      14:00    04/01    14:15   \n1  1997/04/07      14:30    04/07    17:30   \n2  1997/05/12      05:15    05/14    16:00   \n3  1997/05/21      20:20    05/21    22:00   \n4  1997/09/23      21:53    09/23    22:16   \n\n                                     start_frequency  \\\n0  href=\"https://cdaw.gsfc.nasa.gov/CME_list/dail...   \n1  href=\"https://cdaw.gsfc.nasa.gov/CME_list/dail...   \n2  href=\"https://cdaw.gsfc.nasa.gov/CME_list/dail...   \n3  href=\"https://cdaw.gsfc.nasa.gov/CME_list/dail...   \n4  href=\"https://cdaw.gsfc.nasa.gov/CME_list/dail...   \n\n                                       end_frequency flare_location  \\\n0  href=\"https://cdaw.gsfc.nasa.gov/CME_list/dail...         S25E16   \n1  href=\"https://cdaw.gsfc.nasa.gov/CME_list/dail...         S28E19   \n2  href=\"https://cdaw.gsfc.nasa.gov/CME_list/dail...         N21W08   \n3  href=\"https://cdaw.gsfc.nasa.gov/CME_list/dail...         N05W12   \n4  href=\"https://cdaw.gsfc.nasa.gov/CME_list/dail...         S29E25   \n\n  flare_region flare_classification  \\\n0         8026                 M1.3   \n1         8027                 C6.8   \n2         8038                 C1.3   \n3         8040                 M1.3   \n4         8088                 C1.4   \n\n                                            cme_date cme_time cme_angle  \\\n0  href=\"https://cdaw.gsfc.nasa.gov/CME_list/UNIV...    15:18        74   \n1  href=\"https://cdaw.gsfc.nasa.gov/CME_list/UNIV...    14:27      Halo   \n2  href=\"https://cdaw.gsfc.nasa.gov/CME_list/UNIV...    05:30      Halo   \n3  href=\"https://cdaw.gsfc.nasa.gov/CME_list/UNIV...    21:00       263   \n4  href=\"https://cdaw.gsfc.nasa.gov/CME_list/UNIV...    22:02       133   \n\n  cme_width                                          cme_speed  \n0        79  href=\"https://cdaw.gsfc.nasa.gov/CME_list/UNIV...  \n1       360  href=\"https://cdaw.gsfc.nasa.gov/CME_list/UNIV...  \n2       360  href=\"https://cdaw.gsfc.nasa.gov/CME_list/UNIV...  \n3       165  href=\"https://cdaw.gsfc.nasa.gov/CME_list/UNIV...  \n4       155  href=\"https://cdaw.gsfc.nasa.gov/CME_list/UNIV...  ",
      "text/html": "<div>\n<style scoped>\n    .dataframe tbody tr th:only-of-type {\n        vertical-align: middle;\n    }\n\n    .dataframe tbody tr th {\n        vertical-align: top;\n    }\n\n    .dataframe thead th {\n        text-align: right;\n    }\n</style>\n<table border=\"1\" class=\"dataframe\">\n  <thead>\n    <tr style=\"text-align: right;\">\n      <th></th>\n      <th>start_date</th>\n      <th>start_time</th>\n      <th>end_date</th>\n      <th>end_time</th>\n      <th>start_frequency</th>\n      <th>end_frequency</th>\n      <th>flare_location</th>\n      <th>flare_region</th>\n      <th>flare_classification</th>\n      <th>cme_date</th>\n      <th>cme_time</th>\n      <th>cme_angle</th>\n      <th>cme_width</th>\n      <th>cme_speed</th>\n    </tr>\n  </thead>\n  <tbody>\n    <tr>\n      <th>0</th>\n      <td>1997/04/01</td>\n      <td>14:00</td>\n      <td>04/01</td>\n      <td>14:15</td>\n      <td>href=\"https://cdaw.gsfc.nasa.gov/CME_list/dail...</td>\n      <td>href=\"https://cdaw.gsfc.nasa.gov/CME_list/dail...</td>\n      <td>S25E16</td>\n      <td>8026</td>\n      <td>M1.3</td>\n      <td>href=\"https://cdaw.gsfc.nasa.gov/CME_list/UNIV...</td>\n      <td>15:18</td>\n      <td>74</td>\n      <td>79</td>\n      <td>href=\"https://cdaw.gsfc.nasa.gov/CME_list/UNIV...</td>\n    </tr>\n    <tr>\n      <th>1</th>\n      <td>1997/04/07</td>\n      <td>14:30</td>\n      <td>04/07</td>\n      <td>17:30</td>\n      <td>href=\"https://cdaw.gsfc.nasa.gov/CME_list/dail...</td>\n      <td>href=\"https://cdaw.gsfc.nasa.gov/CME_list/dail...</td>\n      <td>S28E19</td>\n      <td>8027</td>\n      <td>C6.8</td>\n      <td>href=\"https://cdaw.gsfc.nasa.gov/CME_list/UNIV...</td>\n      <td>14:27</td>\n      <td>Halo</td>\n      <td>360</td>\n      <td>href=\"https://cdaw.gsfc.nasa.gov/CME_list/UNIV...</td>\n    </tr>\n    <tr>\n      <th>2</th>\n      <td>1997/05/12</td>\n      <td>05:15</td>\n      <td>05/14</td>\n      <td>16:00</td>\n      <td>href=\"https://cdaw.gsfc.nasa.gov/CME_list/dail...</td>\n      <td>href=\"https://cdaw.gsfc.nasa.gov/CME_list/dail...</td>\n      <td>N21W08</td>\n      <td>8038</td>\n      <td>C1.3</td>\n      <td>href=\"https://cdaw.gsfc.nasa.gov/CME_list/UNIV...</td>\n      <td>05:30</td>\n      <td>Halo</td>\n      <td>360</td>\n      <td>href=\"https://cdaw.gsfc.nasa.gov/CME_list/UNIV...</td>\n    </tr>\n    <tr>\n      <th>3</th>\n      <td>1997/05/21</td>\n      <td>20:20</td>\n      <td>05/21</td>\n      <td>22:00</td>\n      <td>href=\"https://cdaw.gsfc.nasa.gov/CME_list/dail...</td>\n      <td>href=\"https://cdaw.gsfc.nasa.gov/CME_list/dail...</td>\n      <td>N05W12</td>\n      <td>8040</td>\n      <td>M1.3</td>\n      <td>href=\"https://cdaw.gsfc.nasa.gov/CME_list/UNIV...</td>\n      <td>21:00</td>\n      <td>263</td>\n      <td>165</td>\n      <td>href=\"https://cdaw.gsfc.nasa.gov/CME_list/UNIV...</td>\n    </tr>\n    <tr>\n      <th>4</th>\n      <td>1997/09/23</td>\n      <td>21:53</td>\n      <td>09/23</td>\n      <td>22:16</td>\n      <td>href=\"https://cdaw.gsfc.nasa.gov/CME_list/dail...</td>\n      <td>href=\"https://cdaw.gsfc.nasa.gov/CME_list/dail...</td>\n      <td>S29E25</td>\n      <td>8088</td>\n      <td>C1.4</td>\n      <td>href=\"https://cdaw.gsfc.nasa.gov/CME_list/UNIV...</td>\n      <td>22:02</td>\n      <td>133</td>\n      <td>155</td>\n      <td>href=\"https://cdaw.gsfc.nasa.gov/CME_list/UNIV...</td>\n    </tr>\n  </tbody>\n</table>\n</div>"
     },
     "execution_count": 31,
     "metadata": {},
     "output_type": "execute_result"
    }
   ],
   "source": [
    "df2 = []\n",
    "\n",
    "for row in data:\n",
    "    items = row.split()\n",
    "    df2.append(items)\n",
    "\n",
    "df2 = pd.DataFrame(df2)\n",
    "df2 = df2[[0,1,2,3,5,7,8,9,10,12,13,14,15,17]]\n",
    "df2.columns = ['start_date', 'start_time', 'end_date', 'end_time', 'start_frequency', 'end_frequency', 'flare_location', 'flare_region', 'flare_classification', 'cme_date', 'cme_time', 'cme_angle', 'cme_width', 'cme_speed']\n",
    "df2.head()"
   ],
   "metadata": {
    "collapsed": false,
    "pycharm": {
     "name": "#%%\n"
    }
   }
  },
  {
   "cell_type": "markdown",
   "source": [
    "Extract data from hyperlinks"
   ],
   "metadata": {
    "collapsed": false
   }
  },
  {
   "cell_type": "code",
   "execution_count": 32,
   "outputs": [
    {
     "data": {
      "text/plain": "   start_date start_time end_date end_time start_frequency end_frequency  \\\n0  1997/04/01      14:00    04/01    14:15            8000          4000   \n1  1997/04/07      14:30    04/07    17:30           11000          1000   \n2  1997/05/12      05:15    05/14    16:00           12000            80   \n3  1997/05/21      20:20    05/21    22:00            5000           500   \n4  1997/09/23      21:53    09/23    22:16            6000          2000   \n\n  flare_location flare_region flare_classification cme_date cme_time  \\\n0         S25E16         8026                 M1.3    04/01    15:18   \n1         S28E19         8027                 C6.8    04/07    14:27   \n2         N21W08         8038                 C1.3    05/12    05:30   \n3         N05W12         8040                 M1.3    05/21    21:00   \n4         S29E25         8088                 C1.4    09/23    22:02   \n\n  cme_angle cme_width cme_speed  \n0        74        79       312  \n1      Halo       360       878  \n2      Halo       360       464  \n3       263       165       296  \n4       133       155       712  ",
      "text/html": "<div>\n<style scoped>\n    .dataframe tbody tr th:only-of-type {\n        vertical-align: middle;\n    }\n\n    .dataframe tbody tr th {\n        vertical-align: top;\n    }\n\n    .dataframe thead th {\n        text-align: right;\n    }\n</style>\n<table border=\"1\" class=\"dataframe\">\n  <thead>\n    <tr style=\"text-align: right;\">\n      <th></th>\n      <th>start_date</th>\n      <th>start_time</th>\n      <th>end_date</th>\n      <th>end_time</th>\n      <th>start_frequency</th>\n      <th>end_frequency</th>\n      <th>flare_location</th>\n      <th>flare_region</th>\n      <th>flare_classification</th>\n      <th>cme_date</th>\n      <th>cme_time</th>\n      <th>cme_angle</th>\n      <th>cme_width</th>\n      <th>cme_speed</th>\n    </tr>\n  </thead>\n  <tbody>\n    <tr>\n      <th>0</th>\n      <td>1997/04/01</td>\n      <td>14:00</td>\n      <td>04/01</td>\n      <td>14:15</td>\n      <td>8000</td>\n      <td>4000</td>\n      <td>S25E16</td>\n      <td>8026</td>\n      <td>M1.3</td>\n      <td>04/01</td>\n      <td>15:18</td>\n      <td>74</td>\n      <td>79</td>\n      <td>312</td>\n    </tr>\n    <tr>\n      <th>1</th>\n      <td>1997/04/07</td>\n      <td>14:30</td>\n      <td>04/07</td>\n      <td>17:30</td>\n      <td>11000</td>\n      <td>1000</td>\n      <td>S28E19</td>\n      <td>8027</td>\n      <td>C6.8</td>\n      <td>04/07</td>\n      <td>14:27</td>\n      <td>Halo</td>\n      <td>360</td>\n      <td>878</td>\n    </tr>\n    <tr>\n      <th>2</th>\n      <td>1997/05/12</td>\n      <td>05:15</td>\n      <td>05/14</td>\n      <td>16:00</td>\n      <td>12000</td>\n      <td>80</td>\n      <td>N21W08</td>\n      <td>8038</td>\n      <td>C1.3</td>\n      <td>05/12</td>\n      <td>05:30</td>\n      <td>Halo</td>\n      <td>360</td>\n      <td>464</td>\n    </tr>\n    <tr>\n      <th>3</th>\n      <td>1997/05/21</td>\n      <td>20:20</td>\n      <td>05/21</td>\n      <td>22:00</td>\n      <td>5000</td>\n      <td>500</td>\n      <td>N05W12</td>\n      <td>8040</td>\n      <td>M1.3</td>\n      <td>05/21</td>\n      <td>21:00</td>\n      <td>263</td>\n      <td>165</td>\n      <td>296</td>\n    </tr>\n    <tr>\n      <th>4</th>\n      <td>1997/09/23</td>\n      <td>21:53</td>\n      <td>09/23</td>\n      <td>22:16</td>\n      <td>6000</td>\n      <td>2000</td>\n      <td>S29E25</td>\n      <td>8088</td>\n      <td>C1.4</td>\n      <td>09/23</td>\n      <td>22:02</td>\n      <td>133</td>\n      <td>155</td>\n      <td>712</td>\n    </tr>\n  </tbody>\n</table>\n</div>"
     },
     "execution_count": 32,
     "metadata": {},
     "output_type": "execute_result"
    }
   ],
   "source": [
    "import re\n",
    "\n",
    "for index in range(0,len(data)):\n",
    "    df2['start_frequency'][index] = str(re.findall('[0-9]+</a>', df2['start_frequency'][index]))\n",
    "    df2['start_frequency'][index] = df2['start_frequency'][index][2:-6]\n",
    "    df2['end_frequency'][index] = str(re.findall('[0-9]+</a>', df2['end_frequency'][index]))\n",
    "    df2['end_frequency'][index] = df2['end_frequency'][index][2:-6]\n",
    "    df2['cme_date'][index] = str(re.findall('[0-9]{2}/[0-9]{2}</a>', df2['cme_date'][index]))\n",
    "    df2['cme_date'][index] = df2['cme_date'][index][2:-6]\n",
    "    df2['cme_speed'][index] = str(re.findall('[0-9]+</a>', str(df2['cme_speed'][index])))\n",
    "    df2['cme_speed'][index] = df2['cme_speed'][index][2:-6]\n",
    "\n",
    "df2.head()"
   ],
   "metadata": {
    "collapsed": false,
    "pycharm": {
     "name": "#%%\n"
    }
   }
  },
  {
   "cell_type": "markdown",
   "source": [
    "## Step 4: Tidy NASA Dataset\n",
    "\n",
    "Recode missing entries"
   ],
   "metadata": {
    "collapsed": false
   }
  },
  {
   "cell_type": "code",
   "execution_count": 33,
   "outputs": [],
   "source": [
    "df2 = df2.replace(to_replace ='-+', value = np.NaN, regex = True)"
   ],
   "metadata": {
    "collapsed": false,
    "pycharm": {
     "name": "#%%\n"
    }
   }
  },
  {
   "cell_type": "markdown",
   "source": [
    "Create is_halo column, replace Halos with NA"
   ],
   "metadata": {
    "collapsed": false
   }
  },
  {
   "cell_type": "code",
   "execution_count": 36,
   "outputs": [
    {
     "data": {
      "text/plain": "   is_halo  start_date start_time end_date end_time\n0    False  1997/04/01      14:00    04/01    14:15\n1     True  1997/04/07      14:30    04/07    17:30\n2     True  1997/05/12      05:15    05/14    16:00\n3    False  1997/05/21      20:20    05/21    22:00\n4    False  1997/09/23      21:53    09/23    22:16",
      "text/html": "<div>\n<style scoped>\n    .dataframe tbody tr th:only-of-type {\n        vertical-align: middle;\n    }\n\n    .dataframe tbody tr th {\n        vertical-align: top;\n    }\n\n    .dataframe thead th {\n        text-align: right;\n    }\n</style>\n<table border=\"1\" class=\"dataframe\">\n  <thead>\n    <tr style=\"text-align: right;\">\n      <th></th>\n      <th>is_halo</th>\n      <th>start_date</th>\n      <th>start_time</th>\n      <th>end_date</th>\n      <th>end_time</th>\n    </tr>\n  </thead>\n  <tbody>\n    <tr>\n      <th>0</th>\n      <td>False</td>\n      <td>1997/04/01</td>\n      <td>14:00</td>\n      <td>04/01</td>\n      <td>14:15</td>\n    </tr>\n    <tr>\n      <th>1</th>\n      <td>True</td>\n      <td>1997/04/07</td>\n      <td>14:30</td>\n      <td>04/07</td>\n      <td>17:30</td>\n    </tr>\n    <tr>\n      <th>2</th>\n      <td>True</td>\n      <td>1997/05/12</td>\n      <td>05:15</td>\n      <td>05/14</td>\n      <td>16:00</td>\n    </tr>\n    <tr>\n      <th>3</th>\n      <td>False</td>\n      <td>1997/05/21</td>\n      <td>20:20</td>\n      <td>05/21</td>\n      <td>22:00</td>\n    </tr>\n    <tr>\n      <th>4</th>\n      <td>False</td>\n      <td>1997/09/23</td>\n      <td>21:53</td>\n      <td>09/23</td>\n      <td>22:16</td>\n    </tr>\n  </tbody>\n</table>\n</div>"
     },
     "execution_count": 36,
     "metadata": {},
     "output_type": "execute_result"
    }
   ],
   "source": [
    "df2['is_halo'] = (df2['cme_angle'] == 'Halo')\n",
    "df2 = df2.replace(to_replace ='Halo', value = 'NA')\n",
    "df2[['is_halo', 'start_date', 'start_time', 'end_date', 'end_time']].head()"
   ],
   "metadata": {
    "collapsed": false,
    "pycharm": {
     "name": "#%%\n"
    }
   }
  },
  {
   "cell_type": "markdown",
   "source": [
    "Create width_lower_bound column, remove non-numeric part"
   ],
   "metadata": {
    "collapsed": false
   }
  },
  {
   "cell_type": "code",
   "execution_count": 37,
   "outputs": [
    {
     "data": {
      "text/plain": "   width_lower_bound  is_halo  start_date start_time end_date end_time\n0              False    False  1997/04/01      14:00    04/01    14:15\n1              False     True  1997/04/07      14:30    04/07    17:30\n2              False     True  1997/05/12      05:15    05/14    16:00\n3              False    False  1997/05/21      20:20    05/21    22:00\n4              False    False  1997/09/23      21:53    09/23    22:16",
      "text/html": "<div>\n<style scoped>\n    .dataframe tbody tr th:only-of-type {\n        vertical-align: middle;\n    }\n\n    .dataframe tbody tr th {\n        vertical-align: top;\n    }\n\n    .dataframe thead th {\n        text-align: right;\n    }\n</style>\n<table border=\"1\" class=\"dataframe\">\n  <thead>\n    <tr style=\"text-align: right;\">\n      <th></th>\n      <th>width_lower_bound</th>\n      <th>is_halo</th>\n      <th>start_date</th>\n      <th>start_time</th>\n      <th>end_date</th>\n      <th>end_time</th>\n    </tr>\n  </thead>\n  <tbody>\n    <tr>\n      <th>0</th>\n      <td>False</td>\n      <td>False</td>\n      <td>1997/04/01</td>\n      <td>14:00</td>\n      <td>04/01</td>\n      <td>14:15</td>\n    </tr>\n    <tr>\n      <th>1</th>\n      <td>False</td>\n      <td>True</td>\n      <td>1997/04/07</td>\n      <td>14:30</td>\n      <td>04/07</td>\n      <td>17:30</td>\n    </tr>\n    <tr>\n      <th>2</th>\n      <td>False</td>\n      <td>True</td>\n      <td>1997/05/12</td>\n      <td>05:15</td>\n      <td>05/14</td>\n      <td>16:00</td>\n    </tr>\n    <tr>\n      <th>3</th>\n      <td>False</td>\n      <td>False</td>\n      <td>1997/05/21</td>\n      <td>20:20</td>\n      <td>05/21</td>\n      <td>22:00</td>\n    </tr>\n    <tr>\n      <th>4</th>\n      <td>False</td>\n      <td>False</td>\n      <td>1997/09/23</td>\n      <td>21:53</td>\n      <td>09/23</td>\n      <td>22:16</td>\n    </tr>\n  </tbody>\n</table>\n</div>"
     },
     "execution_count": 37,
     "metadata": {},
     "output_type": "execute_result"
    }
   ],
   "source": [
    "lower_bounds = []\n",
    "for index in range(0,len(data)):\n",
    "    if '&gt;' in str(df2.at[index, 'cme_width']):\n",
    "        lower_bounds.append(True)\n",
    "        df2.at[index, 'cme_width'] = df2.at[index, 'cme_width'][4:]\n",
    "    else:\n",
    "        lower_bounds.append(False)\n",
    "\n",
    "df2['width_lower_bound'] = lower_bounds\n",
    "df2[['width_lower_bound', 'is_halo', 'start_date', 'start_time', 'end_date', 'end_time']].head()"
   ],
   "metadata": {
    "collapsed": false,
    "pycharm": {
     "name": "#%%\n"
    }
   }
  },
  {
   "cell_type": "markdown",
   "source": [
    "Combine date and time columns"
   ],
   "metadata": {
    "collapsed": false
   }
  },
  {
   "cell_type": "code",
   "execution_count": 38,
   "outputs": [
    {
     "data": {
      "text/plain": "   start_date           start_time end_date             end_time  \\\n0  1997/04/01  1997/04/01 14:00:00    04/01  1997/04/01 14:15:00   \n1  1997/04/07  1997/04/07 14:30:00    04/07  1997/04/07 17:30:00   \n2  1997/05/12  1997/05/12 05:15:00    05/14  1997/05/14 16:00:00   \n3  1997/05/21  1997/05/21 20:20:00    05/21  1997/05/21 22:00:00   \n4  1997/09/23  1997/09/23 21:53:00    09/23  1997/09/23 22:16:00   \n\n  start_frequency end_frequency flare_location flare_region  \\\n0            8000          4000         S25E16         8026   \n1           11000          1000         S28E19         8027   \n2           12000            80         N21W08         8038   \n3            5000           500         N05W12         8040   \n4            6000          2000         S29E25         8088   \n\n  flare_classification cme_date             cme_time cme_angle cme_width  \\\n0                 M1.3    04/01  1997/04/01 15:18:00        74        79   \n1                 C6.8    04/07  1997/04/07 14:27:00        NA       360   \n2                 C1.3    05/12  1997/05/12 05:30:00        NA       360   \n3                 M1.3    05/21  1997/05/21 21:00:00       263       165   \n4                 C1.4    09/23  1997/09/23 22:02:00       133       155   \n\n  cme_speed  is_halo  width_lower_bound  \n0       312    False              False  \n1       878     True              False  \n2       464     True              False  \n3       296    False              False  \n4       712    False              False  ",
      "text/html": "<div>\n<style scoped>\n    .dataframe tbody tr th:only-of-type {\n        vertical-align: middle;\n    }\n\n    .dataframe tbody tr th {\n        vertical-align: top;\n    }\n\n    .dataframe thead th {\n        text-align: right;\n    }\n</style>\n<table border=\"1\" class=\"dataframe\">\n  <thead>\n    <tr style=\"text-align: right;\">\n      <th></th>\n      <th>start_date</th>\n      <th>start_time</th>\n      <th>end_date</th>\n      <th>end_time</th>\n      <th>start_frequency</th>\n      <th>end_frequency</th>\n      <th>flare_location</th>\n      <th>flare_region</th>\n      <th>flare_classification</th>\n      <th>cme_date</th>\n      <th>cme_time</th>\n      <th>cme_angle</th>\n      <th>cme_width</th>\n      <th>cme_speed</th>\n      <th>is_halo</th>\n      <th>width_lower_bound</th>\n    </tr>\n  </thead>\n  <tbody>\n    <tr>\n      <th>0</th>\n      <td>1997/04/01</td>\n      <td>1997/04/01 14:00:00</td>\n      <td>04/01</td>\n      <td>1997/04/01 14:15:00</td>\n      <td>8000</td>\n      <td>4000</td>\n      <td>S25E16</td>\n      <td>8026</td>\n      <td>M1.3</td>\n      <td>04/01</td>\n      <td>1997/04/01 15:18:00</td>\n      <td>74</td>\n      <td>79</td>\n      <td>312</td>\n      <td>False</td>\n      <td>False</td>\n    </tr>\n    <tr>\n      <th>1</th>\n      <td>1997/04/07</td>\n      <td>1997/04/07 14:30:00</td>\n      <td>04/07</td>\n      <td>1997/04/07 17:30:00</td>\n      <td>11000</td>\n      <td>1000</td>\n      <td>S28E19</td>\n      <td>8027</td>\n      <td>C6.8</td>\n      <td>04/07</td>\n      <td>1997/04/07 14:27:00</td>\n      <td>NA</td>\n      <td>360</td>\n      <td>878</td>\n      <td>True</td>\n      <td>False</td>\n    </tr>\n    <tr>\n      <th>2</th>\n      <td>1997/05/12</td>\n      <td>1997/05/12 05:15:00</td>\n      <td>05/14</td>\n      <td>1997/05/14 16:00:00</td>\n      <td>12000</td>\n      <td>80</td>\n      <td>N21W08</td>\n      <td>8038</td>\n      <td>C1.3</td>\n      <td>05/12</td>\n      <td>1997/05/12 05:30:00</td>\n      <td>NA</td>\n      <td>360</td>\n      <td>464</td>\n      <td>True</td>\n      <td>False</td>\n    </tr>\n    <tr>\n      <th>3</th>\n      <td>1997/05/21</td>\n      <td>1997/05/21 20:20:00</td>\n      <td>05/21</td>\n      <td>1997/05/21 22:00:00</td>\n      <td>5000</td>\n      <td>500</td>\n      <td>N05W12</td>\n      <td>8040</td>\n      <td>M1.3</td>\n      <td>05/21</td>\n      <td>1997/05/21 21:00:00</td>\n      <td>263</td>\n      <td>165</td>\n      <td>296</td>\n      <td>False</td>\n      <td>False</td>\n    </tr>\n    <tr>\n      <th>4</th>\n      <td>1997/09/23</td>\n      <td>1997/09/23 21:53:00</td>\n      <td>09/23</td>\n      <td>1997/09/23 22:16:00</td>\n      <td>6000</td>\n      <td>2000</td>\n      <td>S29E25</td>\n      <td>8088</td>\n      <td>C1.4</td>\n      <td>09/23</td>\n      <td>1997/09/23 22:02:00</td>\n      <td>133</td>\n      <td>155</td>\n      <td>712</td>\n      <td>False</td>\n      <td>False</td>\n    </tr>\n  </tbody>\n</table>\n</div>"
     },
     "execution_count": 38,
     "metadata": {},
     "output_type": "execute_result"
    }
   ],
   "source": [
    "df2['start_time'] = df2['start_date'] + ' ' + df2['start_time'] + ':00'\n",
    "for index in range(0,len(data)):\n",
    "    year = df2.at[index, 'start_date'][0:4] + '/'\n",
    "    if df2.at[index, 'end_time'] != np.NaN:\n",
    "        df2.at[index, 'end_time'] = year + df2.at[index, 'end_date'] + ' ' + df2.at[index, 'end_time'] + ':00'\n",
    "    if df2.at[index, 'cme_time'] != np.NaN:\n",
    "        df2.at[index, 'cme_time'] = year + str(df2.at[index, 'cme_date']) + ' ' + str(df2.at[index, 'cme_time']) + ':00'\n",
    "\n",
    "df2.head()"
   ],
   "metadata": {
    "collapsed": false,
    "pycharm": {
     "name": "#%%\n"
    }
   }
  },
  {
   "cell_type": "markdown",
   "source": [
    "Tidy missing values in cme_time"
   ],
   "metadata": {
    "collapsed": false
   }
  },
  {
   "cell_type": "code",
   "execution_count": 39,
   "outputs": [],
   "source": [
    "for index in range(0,len(df2)):\n",
    "    if df2.at[index, 'cme_time'][-4] == 'n':\n",
    "        df2.at[index, 'cme_time'] = np.NaN"
   ],
   "metadata": {
    "collapsed": false,
    "pycharm": {
     "name": "#%%\n"
    }
   }
  },
  {
   "cell_type": "markdown",
   "source": [
    "Fix 24:00:00 times"
   ],
   "metadata": {
    "collapsed": false
   }
  },
  {
   "cell_type": "code",
   "execution_count": 40,
   "outputs": [],
   "source": [
    "for index in range(0,len(df2)):\n",
    "    if df2.at[index, 'end_time'][11:] == '24:00:00':\n",
    "        day = df2.at[index, 'end_time'][8:10]\n",
    "        df2.at[index, 'end_time'] = df2.at[index, 'end_time'][0:8] + str(int(day) + 1).zfill(2) + ' 00:00:00'"
   ],
   "metadata": {
    "collapsed": false,
    "pycharm": {
     "name": "#%%\n"
    }
   }
  },
  {
   "cell_type": "markdown",
   "source": [
    "Convert strings to datetime objects"
   ],
   "metadata": {
    "collapsed": false
   }
  },
  {
   "cell_type": "code",
   "execution_count": 41,
   "outputs": [
    {
     "data": {
      "text/plain": "   start_date           start_time end_date             end_time  \\\n0  1997/04/01  1997-04-01 14:00:00    04/01  1997-04-01 14:15:00   \n1  1997/04/07  1997-04-07 14:30:00    04/07  1997-04-07 17:30:00   \n2  1997/05/12  1997-05-12 05:15:00    05/14  1997-05-14 16:00:00   \n3  1997/05/21  1997-05-21 20:20:00    05/21  1997-05-21 22:00:00   \n4  1997/09/23  1997-09-23 21:53:00    09/23  1997-09-23 22:16:00   \n\n  start_frequency end_frequency flare_location flare_region  \\\n0            8000          4000         S25E16         8026   \n1           11000          1000         S28E19         8027   \n2           12000            80         N21W08         8038   \n3            5000           500         N05W12         8040   \n4            6000          2000         S29E25         8088   \n\n  flare_classification cme_date             cme_time cme_angle cme_width  \\\n0                 M1.3    04/01  1997-04-01 15:18:00        74        79   \n1                 C6.8    04/07  1997-04-07 14:27:00        NA       360   \n2                 C1.3    05/12  1997-05-12 05:30:00        NA       360   \n3                 M1.3    05/21  1997-05-21 21:00:00       263       165   \n4                 C1.4    09/23  1997-09-23 22:02:00       133       155   \n\n  cme_speed  is_halo  width_lower_bound  \n0       312    False              False  \n1       878     True              False  \n2       464     True              False  \n3       296    False              False  \n4       712    False              False  ",
      "text/html": "<div>\n<style scoped>\n    .dataframe tbody tr th:only-of-type {\n        vertical-align: middle;\n    }\n\n    .dataframe tbody tr th {\n        vertical-align: top;\n    }\n\n    .dataframe thead th {\n        text-align: right;\n    }\n</style>\n<table border=\"1\" class=\"dataframe\">\n  <thead>\n    <tr style=\"text-align: right;\">\n      <th></th>\n      <th>start_date</th>\n      <th>start_time</th>\n      <th>end_date</th>\n      <th>end_time</th>\n      <th>start_frequency</th>\n      <th>end_frequency</th>\n      <th>flare_location</th>\n      <th>flare_region</th>\n      <th>flare_classification</th>\n      <th>cme_date</th>\n      <th>cme_time</th>\n      <th>cme_angle</th>\n      <th>cme_width</th>\n      <th>cme_speed</th>\n      <th>is_halo</th>\n      <th>width_lower_bound</th>\n    </tr>\n  </thead>\n  <tbody>\n    <tr>\n      <th>0</th>\n      <td>1997/04/01</td>\n      <td>1997-04-01 14:00:00</td>\n      <td>04/01</td>\n      <td>1997-04-01 14:15:00</td>\n      <td>8000</td>\n      <td>4000</td>\n      <td>S25E16</td>\n      <td>8026</td>\n      <td>M1.3</td>\n      <td>04/01</td>\n      <td>1997-04-01 15:18:00</td>\n      <td>74</td>\n      <td>79</td>\n      <td>312</td>\n      <td>False</td>\n      <td>False</td>\n    </tr>\n    <tr>\n      <th>1</th>\n      <td>1997/04/07</td>\n      <td>1997-04-07 14:30:00</td>\n      <td>04/07</td>\n      <td>1997-04-07 17:30:00</td>\n      <td>11000</td>\n      <td>1000</td>\n      <td>S28E19</td>\n      <td>8027</td>\n      <td>C6.8</td>\n      <td>04/07</td>\n      <td>1997-04-07 14:27:00</td>\n      <td>NA</td>\n      <td>360</td>\n      <td>878</td>\n      <td>True</td>\n      <td>False</td>\n    </tr>\n    <tr>\n      <th>2</th>\n      <td>1997/05/12</td>\n      <td>1997-05-12 05:15:00</td>\n      <td>05/14</td>\n      <td>1997-05-14 16:00:00</td>\n      <td>12000</td>\n      <td>80</td>\n      <td>N21W08</td>\n      <td>8038</td>\n      <td>C1.3</td>\n      <td>05/12</td>\n      <td>1997-05-12 05:30:00</td>\n      <td>NA</td>\n      <td>360</td>\n      <td>464</td>\n      <td>True</td>\n      <td>False</td>\n    </tr>\n    <tr>\n      <th>3</th>\n      <td>1997/05/21</td>\n      <td>1997-05-21 20:20:00</td>\n      <td>05/21</td>\n      <td>1997-05-21 22:00:00</td>\n      <td>5000</td>\n      <td>500</td>\n      <td>N05W12</td>\n      <td>8040</td>\n      <td>M1.3</td>\n      <td>05/21</td>\n      <td>1997-05-21 21:00:00</td>\n      <td>263</td>\n      <td>165</td>\n      <td>296</td>\n      <td>False</td>\n      <td>False</td>\n    </tr>\n    <tr>\n      <th>4</th>\n      <td>1997/09/23</td>\n      <td>1997-09-23 21:53:00</td>\n      <td>09/23</td>\n      <td>1997-09-23 22:16:00</td>\n      <td>6000</td>\n      <td>2000</td>\n      <td>S29E25</td>\n      <td>8088</td>\n      <td>C1.4</td>\n      <td>09/23</td>\n      <td>1997-09-23 22:02:00</td>\n      <td>133</td>\n      <td>155</td>\n      <td>712</td>\n      <td>False</td>\n      <td>False</td>\n    </tr>\n  </tbody>\n</table>\n</div>"
     },
     "execution_count": 41,
     "metadata": {},
     "output_type": "execute_result"
    }
   ],
   "source": [
    "for index in range(0,len(data)):\n",
    "    df2.at[index, 'start_time'] = datetime.strptime(df2.at[index, 'start_time'], '%Y/%m/%d %H:%M:%S')\n",
    "    df2.at[index, 'end_time'] = datetime.strptime(df2.at[index, 'end_time'], '%Y/%m/%d %H:%M:%S')\n",
    "    if not pd.isnull(df2.at[index, 'cme_time']):\n",
    "        df2.at[index, 'cme_time'] = datetime.strptime(df2.at[index, 'cme_time'], '%Y/%m/%d %H:%M:%S')\n",
    "\n",
    "df2.head()"
   ],
   "metadata": {
    "collapsed": false,
    "pycharm": {
     "name": "#%%\n"
    }
   }
  },
  {
   "cell_type": "markdown",
   "source": [
    "Drop date columns"
   ],
   "metadata": {
    "collapsed": false
   }
  },
  {
   "cell_type": "code",
   "execution_count": 42,
   "outputs": [
    {
     "data": {
      "text/plain": "            start_time             end_time start_frequency end_frequency  \\\n0  1997-04-01 14:00:00  1997-04-01 14:15:00            8000          4000   \n1  1997-04-07 14:30:00  1997-04-07 17:30:00           11000          1000   \n2  1997-05-12 05:15:00  1997-05-14 16:00:00           12000            80   \n3  1997-05-21 20:20:00  1997-05-21 22:00:00            5000           500   \n4  1997-09-23 21:53:00  1997-09-23 22:16:00            6000          2000   \n\n  flare_location flare_region flare_classification             cme_time  \\\n0         S25E16         8026                 M1.3  1997-04-01 15:18:00   \n1         S28E19         8027                 C6.8  1997-04-07 14:27:00   \n2         N21W08         8038                 C1.3  1997-05-12 05:30:00   \n3         N05W12         8040                 M1.3  1997-05-21 21:00:00   \n4         S29E25         8088                 C1.4  1997-09-23 22:02:00   \n\n  cme_angle cme_width cme_speed  is_halo  width_lower_bound  \n0        74        79       312    False              False  \n1        NA       360       878     True              False  \n2        NA       360       464     True              False  \n3       263       165       296    False              False  \n4       133       155       712    False              False  ",
      "text/html": "<div>\n<style scoped>\n    .dataframe tbody tr th:only-of-type {\n        vertical-align: middle;\n    }\n\n    .dataframe tbody tr th {\n        vertical-align: top;\n    }\n\n    .dataframe thead th {\n        text-align: right;\n    }\n</style>\n<table border=\"1\" class=\"dataframe\">\n  <thead>\n    <tr style=\"text-align: right;\">\n      <th></th>\n      <th>start_time</th>\n      <th>end_time</th>\n      <th>start_frequency</th>\n      <th>end_frequency</th>\n      <th>flare_location</th>\n      <th>flare_region</th>\n      <th>flare_classification</th>\n      <th>cme_time</th>\n      <th>cme_angle</th>\n      <th>cme_width</th>\n      <th>cme_speed</th>\n      <th>is_halo</th>\n      <th>width_lower_bound</th>\n    </tr>\n  </thead>\n  <tbody>\n    <tr>\n      <th>0</th>\n      <td>1997-04-01 14:00:00</td>\n      <td>1997-04-01 14:15:00</td>\n      <td>8000</td>\n      <td>4000</td>\n      <td>S25E16</td>\n      <td>8026</td>\n      <td>M1.3</td>\n      <td>1997-04-01 15:18:00</td>\n      <td>74</td>\n      <td>79</td>\n      <td>312</td>\n      <td>False</td>\n      <td>False</td>\n    </tr>\n    <tr>\n      <th>1</th>\n      <td>1997-04-07 14:30:00</td>\n      <td>1997-04-07 17:30:00</td>\n      <td>11000</td>\n      <td>1000</td>\n      <td>S28E19</td>\n      <td>8027</td>\n      <td>C6.8</td>\n      <td>1997-04-07 14:27:00</td>\n      <td>NA</td>\n      <td>360</td>\n      <td>878</td>\n      <td>True</td>\n      <td>False</td>\n    </tr>\n    <tr>\n      <th>2</th>\n      <td>1997-05-12 05:15:00</td>\n      <td>1997-05-14 16:00:00</td>\n      <td>12000</td>\n      <td>80</td>\n      <td>N21W08</td>\n      <td>8038</td>\n      <td>C1.3</td>\n      <td>1997-05-12 05:30:00</td>\n      <td>NA</td>\n      <td>360</td>\n      <td>464</td>\n      <td>True</td>\n      <td>False</td>\n    </tr>\n    <tr>\n      <th>3</th>\n      <td>1997-05-21 20:20:00</td>\n      <td>1997-05-21 22:00:00</td>\n      <td>5000</td>\n      <td>500</td>\n      <td>N05W12</td>\n      <td>8040</td>\n      <td>M1.3</td>\n      <td>1997-05-21 21:00:00</td>\n      <td>263</td>\n      <td>165</td>\n      <td>296</td>\n      <td>False</td>\n      <td>False</td>\n    </tr>\n    <tr>\n      <th>4</th>\n      <td>1997-09-23 21:53:00</td>\n      <td>1997-09-23 22:16:00</td>\n      <td>6000</td>\n      <td>2000</td>\n      <td>S29E25</td>\n      <td>8088</td>\n      <td>C1.4</td>\n      <td>1997-09-23 22:02:00</td>\n      <td>133</td>\n      <td>155</td>\n      <td>712</td>\n      <td>False</td>\n      <td>False</td>\n    </tr>\n  </tbody>\n</table>\n</div>"
     },
     "execution_count": 42,
     "metadata": {},
     "output_type": "execute_result"
    }
   ],
   "source": [
    "df2 = df2.drop(['start_date', 'end_date', 'cme_date'], axis=1)\n",
    "df2.head()"
   ],
   "metadata": {
    "collapsed": false,
    "pycharm": {
     "name": "#%%\n"
    }
   }
  },
  {
   "cell_type": "markdown",
   "source": [
    "# Part 2: Analysis\n",
    "\n",
    "## Question 1: Replication"
   ],
   "metadata": {
    "collapsed": false
   }
  },
  {
   "cell_type": "markdown",
   "source": [
    "Sort rows by classification by converting strings to floats"
   ],
   "metadata": {
    "collapsed": false
   }
  },
  {
   "cell_type": "code",
   "execution_count": 43,
   "outputs": [
    {
     "data": {
      "text/plain": "     flare_classification           start_time             end_time\n240                  28.0  2003-11-04 20:00:00  2003-11-05 00:00:00\n117                  20.0  2001-04-02 22:05:00  2001-04-03 02:30:00\n233                  17.0  2003-10-28 11:10:00  2003-10-30 00:00:00\n126                  14.0  2001-04-15 14:05:00  2001-04-16 13:00:00\n234                  10.0  2003-10-29 20:55:00  2003-10-30 00:00:00",
      "text/html": "<div>\n<style scoped>\n    .dataframe tbody tr th:only-of-type {\n        vertical-align: middle;\n    }\n\n    .dataframe tbody tr th {\n        vertical-align: top;\n    }\n\n    .dataframe thead th {\n        text-align: right;\n    }\n</style>\n<table border=\"1\" class=\"dataframe\">\n  <thead>\n    <tr style=\"text-align: right;\">\n      <th></th>\n      <th>flare_classification</th>\n      <th>start_time</th>\n      <th>end_time</th>\n    </tr>\n  </thead>\n  <tbody>\n    <tr>\n      <th>240</th>\n      <td>28.0</td>\n      <td>2003-11-04 20:00:00</td>\n      <td>2003-11-05 00:00:00</td>\n    </tr>\n    <tr>\n      <th>117</th>\n      <td>20.0</td>\n      <td>2001-04-02 22:05:00</td>\n      <td>2001-04-03 02:30:00</td>\n    </tr>\n    <tr>\n      <th>233</th>\n      <td>17.0</td>\n      <td>2003-10-28 11:10:00</td>\n      <td>2003-10-30 00:00:00</td>\n    </tr>\n    <tr>\n      <th>126</th>\n      <td>14.0</td>\n      <td>2001-04-15 14:05:00</td>\n      <td>2001-04-16 13:00:00</td>\n    </tr>\n    <tr>\n      <th>234</th>\n      <td>10.0</td>\n      <td>2003-10-29 20:55:00</td>\n      <td>2003-10-30 00:00:00</td>\n    </tr>\n  </tbody>\n</table>\n</div>"
     },
     "execution_count": 43,
     "metadata": {},
     "output_type": "execute_result"
    }
   ],
   "source": [
    "df2_sorted = df2.sort_values('flare_classification', ascending=False)[0:50]\n",
    "df2_sorted['flare_classification'] = df2_sorted['flare_classification'].str[1:]\n",
    "df2_sorted = df2_sorted.astype({'flare_classification':'float'})\n",
    "df2_sorted = df2_sorted.sort_values('flare_classification', ascending=False)\n",
    "df2_sorted[['flare_classification', 'start_time', 'end_time']].head()"
   ],
   "metadata": {
    "collapsed": false,
    "pycharm": {
     "name": "#%%\n"
    }
   }
  },
  {
   "cell_type": "markdown",
   "source": [
    "Compare to Space Weather Live data"
   ],
   "metadata": {
    "collapsed": false
   }
  },
  {
   "cell_type": "code",
   "execution_count": 17,
   "outputs": [
    {
     "data": {
      "text/plain": "   rank x_classification           start_time             max_time  \\\n0     1             X28+  2003-11-04 19:29:00  2003-11-04 19:53:00   \n1     2             X20+  2001-04-02 21:32:00  2001-04-02 21:51:00   \n2     3           X17.2+  2003-10-28 09:51:00  2003-10-28 11:10:00   \n3     4             X17+  2005-09-07 17:17:00  2005-09-07 17:40:00   \n4     5            X14.4  2001-04-15 13:19:00  2001-04-15 13:50:00   \n\n              end_time  region  \n0  2003-11-04 20:06:00     486  \n1  2001-04-02 22:03:00    9393  \n2  2003-10-28 11:24:00     486  \n3  2005-09-07 18:03:00     808  \n4  2001-04-15 13:55:00    9415  ",
      "text/html": "<div>\n<style scoped>\n    .dataframe tbody tr th:only-of-type {\n        vertical-align: middle;\n    }\n\n    .dataframe tbody tr th {\n        vertical-align: top;\n    }\n\n    .dataframe thead th {\n        text-align: right;\n    }\n</style>\n<table border=\"1\" class=\"dataframe\">\n  <thead>\n    <tr style=\"text-align: right;\">\n      <th></th>\n      <th>rank</th>\n      <th>x_classification</th>\n      <th>start_time</th>\n      <th>max_time</th>\n      <th>end_time</th>\n      <th>region</th>\n    </tr>\n  </thead>\n  <tbody>\n    <tr>\n      <th>0</th>\n      <td>1</td>\n      <td>X28+</td>\n      <td>2003-11-04 19:29:00</td>\n      <td>2003-11-04 19:53:00</td>\n      <td>2003-11-04 20:06:00</td>\n      <td>486</td>\n    </tr>\n    <tr>\n      <th>1</th>\n      <td>2</td>\n      <td>X20+</td>\n      <td>2001-04-02 21:32:00</td>\n      <td>2001-04-02 21:51:00</td>\n      <td>2001-04-02 22:03:00</td>\n      <td>9393</td>\n    </tr>\n    <tr>\n      <th>2</th>\n      <td>3</td>\n      <td>X17.2+</td>\n      <td>2003-10-28 09:51:00</td>\n      <td>2003-10-28 11:10:00</td>\n      <td>2003-10-28 11:24:00</td>\n      <td>486</td>\n    </tr>\n    <tr>\n      <th>3</th>\n      <td>4</td>\n      <td>X17+</td>\n      <td>2005-09-07 17:17:00</td>\n      <td>2005-09-07 17:40:00</td>\n      <td>2005-09-07 18:03:00</td>\n      <td>808</td>\n    </tr>\n    <tr>\n      <th>4</th>\n      <td>5</td>\n      <td>X14.4</td>\n      <td>2001-04-15 13:19:00</td>\n      <td>2001-04-15 13:50:00</td>\n      <td>2001-04-15 13:55:00</td>\n      <td>9415</td>\n    </tr>\n  </tbody>\n</table>\n</div>"
     },
     "execution_count": 17,
     "metadata": {},
     "output_type": "execute_result"
    }
   ],
   "source": [
    "df.head()"
   ],
   "metadata": {
    "collapsed": false,
    "pycharm": {
     "name": "#%%\n"
    }
   }
  },
  {
   "cell_type": "markdown",
   "source": [
    "Compare start dates of top 50 from NASA to top 50 from Space Weather Live"
   ],
   "metadata": {
    "collapsed": false
   }
  },
  {
   "cell_type": "code",
   "execution_count": 18,
   "outputs": [
    {
     "name": "stdout",
     "output_type": "stream",
     "text": [
      "16 flares in the NASA table were not in SWL table.\n"
     ]
    }
   ],
   "source": [
    "df2_sorted = df2_sorted.reset_index(drop=True)\n",
    "dates = []\n",
    "for index in range(0,50):\n",
    "    dates.append(df.at[index, 'start_time'].date())\n",
    "count = 0\n",
    "for index in range(0,50):\n",
    "    if df2_sorted.at[index, 'start_time'].date() not in dates:\n",
    "        count += 1\n",
    "print(str(count) + \" flares in the NASA table were not in SWL table.\")"
   ],
   "metadata": {
    "collapsed": false,
    "pycharm": {
     "name": "#%%\n"
    }
   }
  },
  {
   "cell_type": "markdown",
   "source": [
    "The top 50 solar flares from the NASA table does appear to mostly match the top 50 flares from spaceweatherlive.com. However, some of the flares are not found in both tables."
   ],
   "metadata": {
    "collapsed": false
   }
  },
  {
   "cell_type": "markdown",
   "source": [
    "## Question 2: Integration\n",
    "\n",
    "\"Best matching\" criterion:\n",
    "Check if any of these match (in order of precedence):\n",
    "-be on the same day\n",
    "-should be from the same region\n",
    "-have the same classification"
   ],
   "metadata": {
    "collapsed": false
   }
  },
  {
   "cell_type": "markdown",
   "source": [
    "Create column indicating best matching row from NASA data"
   ],
   "metadata": {
    "collapsed": false
   }
  },
  {
   "cell_type": "code",
   "execution_count": 19,
   "outputs": [
    {
     "data": {
      "text/plain": "   rank x_classification           start_time             max_time  \\\n0     1             X28+  2003-11-04 19:29:00  2003-11-04 19:53:00   \n1     2             X20+  2001-04-02 21:32:00  2001-04-02 21:51:00   \n2     3           X17.2+  2003-10-28 09:51:00  2003-10-28 11:10:00   \n3     4             X17+  2005-09-07 17:17:00  2005-09-07 17:40:00   \n4     5            X14.4  2001-04-15 13:19:00  2001-04-15 13:50:00   \n\n              end_time  region  best_match  \n0  2003-11-04 20:06:00     486       240.0  \n1  2001-04-02 22:03:00    9393       116.0  \n2  2003-10-28 11:24:00     486       233.0  \n3  2005-09-07 18:03:00     808       316.0  \n4  2001-04-15 13:55:00    9415       126.0  ",
      "text/html": "<div>\n<style scoped>\n    .dataframe tbody tr th:only-of-type {\n        vertical-align: middle;\n    }\n\n    .dataframe tbody tr th {\n        vertical-align: top;\n    }\n\n    .dataframe thead th {\n        text-align: right;\n    }\n</style>\n<table border=\"1\" class=\"dataframe\">\n  <thead>\n    <tr style=\"text-align: right;\">\n      <th></th>\n      <th>rank</th>\n      <th>x_classification</th>\n      <th>start_time</th>\n      <th>max_time</th>\n      <th>end_time</th>\n      <th>region</th>\n      <th>best_match</th>\n    </tr>\n  </thead>\n  <tbody>\n    <tr>\n      <th>0</th>\n      <td>1</td>\n      <td>X28+</td>\n      <td>2003-11-04 19:29:00</td>\n      <td>2003-11-04 19:53:00</td>\n      <td>2003-11-04 20:06:00</td>\n      <td>486</td>\n      <td>240.0</td>\n    </tr>\n    <tr>\n      <th>1</th>\n      <td>2</td>\n      <td>X20+</td>\n      <td>2001-04-02 21:32:00</td>\n      <td>2001-04-02 21:51:00</td>\n      <td>2001-04-02 22:03:00</td>\n      <td>9393</td>\n      <td>116.0</td>\n    </tr>\n    <tr>\n      <th>2</th>\n      <td>3</td>\n      <td>X17.2+</td>\n      <td>2003-10-28 09:51:00</td>\n      <td>2003-10-28 11:10:00</td>\n      <td>2003-10-28 11:24:00</td>\n      <td>486</td>\n      <td>233.0</td>\n    </tr>\n    <tr>\n      <th>3</th>\n      <td>4</td>\n      <td>X17+</td>\n      <td>2005-09-07 17:17:00</td>\n      <td>2005-09-07 17:40:00</td>\n      <td>2005-09-07 18:03:00</td>\n      <td>808</td>\n      <td>316.0</td>\n    </tr>\n    <tr>\n      <th>4</th>\n      <td>5</td>\n      <td>X14.4</td>\n      <td>2001-04-15 13:19:00</td>\n      <td>2001-04-15 13:50:00</td>\n      <td>2001-04-15 13:55:00</td>\n      <td>9415</td>\n      <td>126.0</td>\n    </tr>\n  </tbody>\n</table>\n</div>"
     },
     "execution_count": 19,
     "metadata": {},
     "output_type": "execute_result"
    }
   ],
   "source": [
    "best_match = []\n",
    "\n",
    "for i in range(0,len(df)):\n",
    "    old_length = len(best_match)\n",
    "    for j in range(0,len(df2)):\n",
    "        if df.at[i, 'start_time'].date() == df2.at[j, 'start_time'].date():\n",
    "            best_match.append(j)\n",
    "            break\n",
    "        elif df2.at[j, 'flare_region'] != np.NaN and df.at[i, 'region'] == str(df2.at[j, 'flare_region'])[-len(str(df.at[i, 'region'])):]:\n",
    "            best_match.append(j)\n",
    "            break\n",
    "        elif df.at[i, 'x_classification'] == df2.at[i, 'flare_classification']:\n",
    "            best_match.append(j)\n",
    "            break\n",
    "    if old_length == len(best_match):\n",
    "        best_match.append(np.NaN)\n",
    "\n",
    "df['best_match'] = best_match\n",
    "df.head()"
   ],
   "metadata": {
    "collapsed": false,
    "pycharm": {
     "name": "#%%\n"
    }
   }
  },
  {
   "cell_type": "markdown",
   "source": [
    "Add ranking column to NASA table"
   ],
   "metadata": {
    "collapsed": false
   }
  },
  {
   "cell_type": "code",
   "execution_count": 44,
   "outputs": [
    {
     "data": {
      "text/plain": "   rankings flare_classification           start_time             end_time\n0       NaN                 M1.3  1997-04-01 14:00:00  1997-04-01 14:15:00\n1       NaN                 C6.8  1997-04-07 14:30:00  1997-04-07 17:30:00\n2       NaN                 C1.3  1997-05-12 05:15:00  1997-05-14 16:00:00\n3       NaN                 M1.3  1997-05-21 20:20:00  1997-05-21 22:00:00\n4       NaN                 C1.4  1997-09-23 21:53:00  1997-09-23 22:16:00",
      "text/html": "<div>\n<style scoped>\n    .dataframe tbody tr th:only-of-type {\n        vertical-align: middle;\n    }\n\n    .dataframe tbody tr th {\n        vertical-align: top;\n    }\n\n    .dataframe thead th {\n        text-align: right;\n    }\n</style>\n<table border=\"1\" class=\"dataframe\">\n  <thead>\n    <tr style=\"text-align: right;\">\n      <th></th>\n      <th>rankings</th>\n      <th>flare_classification</th>\n      <th>start_time</th>\n      <th>end_time</th>\n    </tr>\n  </thead>\n  <tbody>\n    <tr>\n      <th>0</th>\n      <td>NaN</td>\n      <td>M1.3</td>\n      <td>1997-04-01 14:00:00</td>\n      <td>1997-04-01 14:15:00</td>\n    </tr>\n    <tr>\n      <th>1</th>\n      <td>NaN</td>\n      <td>C6.8</td>\n      <td>1997-04-07 14:30:00</td>\n      <td>1997-04-07 17:30:00</td>\n    </tr>\n    <tr>\n      <th>2</th>\n      <td>NaN</td>\n      <td>C1.3</td>\n      <td>1997-05-12 05:15:00</td>\n      <td>1997-05-14 16:00:00</td>\n    </tr>\n    <tr>\n      <th>3</th>\n      <td>NaN</td>\n      <td>M1.3</td>\n      <td>1997-05-21 20:20:00</td>\n      <td>1997-05-21 22:00:00</td>\n    </tr>\n    <tr>\n      <th>4</th>\n      <td>NaN</td>\n      <td>C1.4</td>\n      <td>1997-09-23 21:53:00</td>\n      <td>1997-09-23 22:16:00</td>\n    </tr>\n  </tbody>\n</table>\n</div>"
     },
     "execution_count": 44,
     "metadata": {},
     "output_type": "execute_result"
    }
   ],
   "source": [
    "rankings = []\n",
    "for row in range(0,len(df2)):\n",
    "    if row in best_match:\n",
    "        rankings.append(best_match.index(row) + 1)\n",
    "    else:\n",
    "        rankings.append(np.NaN)\n",
    "\n",
    "df2['rankings'] = rankings\n",
    "df2[['rankings', 'flare_classification', 'start_time', 'end_time']].head()"
   ],
   "metadata": {
    "collapsed": false,
    "pycharm": {
     "name": "#%%\n"
    }
   }
  },
  {
   "cell_type": "markdown",
   "source": [
    "I matched rows based on the same day, then the same region, and finally the same flare classification. If multiple rows from the NASA table matched one of the top 50 flares, then I would choose based on which matched criterion had the higher priority. For example, if one row matched a top 50 flare in the day and another matched the same flare in the region, I would choose the first one because matching on the same day has a higher priority."
   ],
   "metadata": {
    "collapsed": false
   }
  },
  {
   "cell_type": "markdown",
   "source": [
    "## Question 3: Analysis"
   ],
   "metadata": {
    "collapsed": false
   }
  },
  {
   "cell_type": "markdown",
   "source": [
    "Do flares in the top 50 tend to have more Halo CMEs than non-top 50 flares?"
   ],
   "metadata": {
    "collapsed": false
   }
  },
  {
   "cell_type": "markdown",
   "source": [
    "Create True/False column for top 50 flares"
   ],
   "metadata": {
    "collapsed": false
   }
  },
  {
   "cell_type": "code",
   "execution_count": 45,
   "outputs": [
    {
     "data": {
      "text/plain": "   in_top50  is_halo flare_classification           start_time  \\\n0     False    False                 M1.3  1997-04-01 14:00:00   \n1     False     True                 C6.8  1997-04-07 14:30:00   \n2     False     True                 C1.3  1997-05-12 05:15:00   \n3     False    False                 M1.3  1997-05-21 20:20:00   \n4     False    False                 C1.4  1997-09-23 21:53:00   \n\n              end_time  \n0  1997-04-01 14:15:00  \n1  1997-04-07 17:30:00  \n2  1997-05-14 16:00:00  \n3  1997-05-21 22:00:00  \n4  1997-09-23 22:16:00  ",
      "text/html": "<div>\n<style scoped>\n    .dataframe tbody tr th:only-of-type {\n        vertical-align: middle;\n    }\n\n    .dataframe tbody tr th {\n        vertical-align: top;\n    }\n\n    .dataframe thead th {\n        text-align: right;\n    }\n</style>\n<table border=\"1\" class=\"dataframe\">\n  <thead>\n    <tr style=\"text-align: right;\">\n      <th></th>\n      <th>in_top50</th>\n      <th>is_halo</th>\n      <th>flare_classification</th>\n      <th>start_time</th>\n      <th>end_time</th>\n    </tr>\n  </thead>\n  <tbody>\n    <tr>\n      <th>0</th>\n      <td>False</td>\n      <td>False</td>\n      <td>M1.3</td>\n      <td>1997-04-01 14:00:00</td>\n      <td>1997-04-01 14:15:00</td>\n    </tr>\n    <tr>\n      <th>1</th>\n      <td>False</td>\n      <td>True</td>\n      <td>C6.8</td>\n      <td>1997-04-07 14:30:00</td>\n      <td>1997-04-07 17:30:00</td>\n    </tr>\n    <tr>\n      <th>2</th>\n      <td>False</td>\n      <td>True</td>\n      <td>C1.3</td>\n      <td>1997-05-12 05:15:00</td>\n      <td>1997-05-14 16:00:00</td>\n    </tr>\n    <tr>\n      <th>3</th>\n      <td>False</td>\n      <td>False</td>\n      <td>M1.3</td>\n      <td>1997-05-21 20:20:00</td>\n      <td>1997-05-21 22:00:00</td>\n    </tr>\n    <tr>\n      <th>4</th>\n      <td>False</td>\n      <td>False</td>\n      <td>C1.4</td>\n      <td>1997-09-23 21:53:00</td>\n      <td>1997-09-23 22:16:00</td>\n    </tr>\n  </tbody>\n</table>\n</div>"
     },
     "execution_count": 45,
     "metadata": {},
     "output_type": "execute_result"
    }
   ],
   "source": [
    "in_top50 = []\n",
    "for time in df2['start_time']:\n",
    "    in_top50.append(str(time) in str(df2_sorted['start_time']))\n",
    "\n",
    "df2['in_top50'] = in_top50\n",
    "df2[['in_top50', 'is_halo', 'flare_classification', 'start_time', 'end_time']].head()"
   ],
   "metadata": {
    "collapsed": false,
    "pycharm": {
     "name": "#%%\n"
    }
   }
  },
  {
   "cell_type": "code",
   "execution_count": 46,
   "outputs": [
    {
     "data": {
      "text/plain": "          is_halo  width_lower_bound  rankings\nin_top50                                      \nFalse         242                 31     217.0\nTrue           44                  0     650.0",
      "text/html": "<div>\n<style scoped>\n    .dataframe tbody tr th:only-of-type {\n        vertical-align: middle;\n    }\n\n    .dataframe tbody tr th {\n        vertical-align: top;\n    }\n\n    .dataframe thead th {\n        text-align: right;\n    }\n</style>\n<table border=\"1\" class=\"dataframe\">\n  <thead>\n    <tr style=\"text-align: right;\">\n      <th></th>\n      <th>is_halo</th>\n      <th>width_lower_bound</th>\n      <th>rankings</th>\n    </tr>\n    <tr>\n      <th>in_top50</th>\n      <th></th>\n      <th></th>\n      <th></th>\n    </tr>\n  </thead>\n  <tbody>\n    <tr>\n      <th>False</th>\n      <td>242</td>\n      <td>31</td>\n      <td>217.0</td>\n    </tr>\n    <tr>\n      <th>True</th>\n      <td>44</td>\n      <td>0</td>\n      <td>650.0</td>\n    </tr>\n  </tbody>\n</table>\n</div>"
     },
     "execution_count": 46,
     "metadata": {},
     "output_type": "execute_result"
    }
   ],
   "source": [
    "df2.groupby(['in_top50']).sum(['is_halo'])"
   ],
   "metadata": {
    "collapsed": false,
    "pycharm": {
     "name": "#%%\n"
    }
   }
  },
  {
   "cell_type": "markdown",
   "source": [
    "44 of the top 50 solar flares (88%) have halos, while 242 of the 468 remaining ones (51.7%) have halos"
   ],
   "metadata": {
    "collapsed": false
   }
  },
  {
   "cell_type": "code",
   "execution_count": 27,
   "outputs": [
    {
     "data": {
      "text/plain": "<Figure size 432x288 with 1 Axes>",
      "image/png": "[encoded data removed]"
     },
     "metadata": {
      "needs_background": "light"
     },
     "output_type": "display_data"
    }
   ],
   "source": [
    "import matplotlib.pyplot as plt\n",
    "\n",
    "info = [[44/50, 242/468]]\n",
    "columns = ['In Top 50', 'Not in Top 50']\n",
    "values = np.arange(0,1,0.2)\n",
    "\n",
    "plt.bar(columns, info[0])\n",
    "plt.ylabel(\"Proportion\")\n",
    "plt.yticks(values)\n",
    "plt.title('Proportions of Top 50 vs Non-Top 50 Solar Flares with Halos')\n",
    "\n",
    "plt.show()"
   ],
   "metadata": {
    "collapsed": false,
    "pycharm": {
     "name": "#%%\n"
    }
   }
  },
  {
   "cell_type": "markdown",
   "source": [
    "The plot shows that the proportion of Top 50 Solar Flares that have halos (88%) does appear to be significantly greater than that of the Non-Top 50 (51.7%). Perhaps a t-test of proportions could be applied."
   ],
   "metadata": {
    "collapsed": false,
    "pycharm": {
     "name": "#%% md\n"
    }
   }
  }
 ],
 "metadata": {
  "kernelspec": {
   "display_name": "Python 3 (ipykernel)",
   "language": "python",
   "name": "python3"
  },
  "language_info": {
   "codemirror_mode": {
    "name": "ipython",
    "version": 3
   },
   "file_extension": ".py",
   "mimetype": "text/x-python",
   "name": "python",
   "nbconvert_exporter": "python",
   "pygments_lexer": "ipython3",
   "version": "3.9.12"
  }
 },
 "nbformat": 4,
 "nbformat_minor": 1
}